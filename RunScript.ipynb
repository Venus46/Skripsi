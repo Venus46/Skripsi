{
 "cells": [
  {
   "cell_type": "code",
   "execution_count": null,
   "id": "e464bc17-c0cb-4dfb-8267-f29997997037",
   "metadata": {},
   "outputs": [],
   "source": [
    "import ipywidgets as widgets\n",
    "from IPython.display import display\n",
    "import subprocess\n",
    "\n",
    "def run_script(option):\n",
    "    result = subprocess.run(['python', 'main.py', str(option)], capture_output=True, text=True)\n",
    "    print(result.stdout)\n",
    "    if result.stderr:\n",
    "        print(\"Errors:\")\n",
    "        print(result.stderr)\n",
    "\n",
    "# Create a dropdown and button to select options and run the script\n",
    "options = widgets.Dropdown(options=[('Show all steps', '1'), ('Show only middle part', '2')],\n",
    "                           description='Choose:', disabled=False)\n",
    "\n",
    "button = widgets.Button(description=\"Run Script\")\n",
    "output = widgets.Output()\n",
    "\n",
    "display(options, button, output)\n",
    "\n",
    "def on_button_clicked(b):\n",
    "    with output:\n",
    "        print(\"Running...\")\n",
    "        run_line = options.value\n",
    "        run_script(run_line)\n",
    "\n",
    "button.on_click(on_button_extended)\n",
    "\n"
   ]
  }
 ],
 "metadata": {
  "kernelspec": {
   "display_name": "Python 3 (ipykernel)",
   "language": "python",
   "name": "python3"
  },
  "language_info": {
   "codemirror_mode": {
    "name": "ipython",
    "version": 3
   },
   "file_extension": ".py",
   "mimetype": "text/x-python",
   "name": "python",
   "nbconvert_exporter": "python",
   "pygments_lexer": "ipython3",
   "version": "3.11.5"
  }
 },
 "nbformat": 4,
 "nbformat_minor": 5
}
