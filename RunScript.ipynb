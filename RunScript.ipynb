import ipywidgets as widgets
from IPython.display import display
import subprocess

def run_script(option):
    result = subprocess.run(['python', 'main.py', str(option)], capture_output=True, text=True)
    print(result.stdout)
    if result.stderr:
        print("Errors:")
        print(result.stderr)

# Create a dropdown and button to select options and run the script
options = widgets.Dropdown(options=[('Show all steps', '1'), ('Show only middle part', '2')],
                           description='Choose:', disabled=False)

button = widgets.Button(description="Run Script")
output = widgets.Output()

display(options, button, output)

def on_button_clicked(b):
    with output:
        print("Running...")
        run_line = options.value
        run_script(run_line)

button.on_click(on_button_extended)

